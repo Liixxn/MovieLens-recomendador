{
 "cells": [
  {
   "cell_type": "code",
   "execution_count": 1,
   "id": "50215d7f",
   "metadata": {},
   "outputs": [],
   "source": [
    "import requests\n",
    "import pandas as pd\n",
    "from bs4 import BeautifulSoup"
   ]
  },
  {
   "cell_type": "code",
   "execution_count": 2,
   "id": "3c253961",
   "metadata": {},
   "outputs": [],
   "source": [
    "df_links = pd.read_csv('csv/links.csv')"
   ]
  },
  {
   "cell_type": "code",
   "execution_count": 3,
   "id": "ded5e2d5",
   "metadata": {},
   "outputs": [],
   "source": [
    "df_movies = pd.read_csv('csv/movies.csv')"
   ]
  },
  {
   "cell_type": "code",
   "execution_count": 4,
   "id": "338f7fe5",
   "metadata": {},
   "outputs": [],
   "source": [
    "df_ratings = pd.read_csv('csv/ratings.csv')"
   ]
  },
  {
   "cell_type": "code",
   "execution_count": 5,
   "id": "24886fd6",
   "metadata": {},
   "outputs": [],
   "source": [
    "df_tags = pd.read_csv('csv/tags.csv')"
   ]
  },
  {
   "cell_type": "code",
   "execution_count": 6,
   "id": "f2026ea0",
   "metadata": {},
   "outputs": [],
   "source": [
    "header = {\n",
    "    'User-Agent': 'Chrome 108.0.5359.125',\n",
    "    'Accept-Language': 'es'\n",
    "}"
   ]
  },
  {
   "cell_type": "code",
   "execution_count": 7,
   "id": "b7364bb1",
   "metadata": {},
   "outputs": [
    {
     "name": "stdout",
     "output_type": "stream",
     "text": [
      "862\n",
      "8844\n",
      "15602\n",
      "31357\n",
      "11862\n",
      "949\n",
      "11860\n",
      "45325\n",
      "9091\n",
      "710\n"
     ]
    },
    {
     "data": {
      "text/plain": [
       "['\\nLos juguetes de Andy, un niño de seis años, temen que haya llegado su hora y que un nuevo regalo de cumpleaños les sustituya en el corazón de su dueño. Woody, un vaquero que ha sido hasta ahora el juguete favorito de Andy, trata de tranquilizarlos hasta que aparece Buzz Lightyear, un héroe espacial dotado de todo tipo de avances tecnológicos. Woody es relegado a un segundo plano., pero su constante rivalidad se transformará en una gran amistad cuando ambos se pierden en la ciudad sin saber cómo volver a casa.\\n',\n",
       " '\\nAlan Parris queda atrapado en un juego de mesa mágico y muy antiguo, Jumanji, durante 25 años. Cuando finalmente es liberado por dos niños, una manada de animales exóticos también es liberada. Alan deberá salvar a su pueblo de la destrucción.\\n',\n",
       " '\\nEl verano ha llegado a Minnesotta y la relación entre Max y John ha mejorado considerablemente, tanto que se han hecho amigos. Además, comparten una gran afición por la pesca y pasan largas horas en el lago. María, una atractiva italiana, llega con su madre al pueblo con la intención de convertir la antigua tienda de artículos de pesca del lago en un restaurante. Max, temiendo que los clientes espanten a los peces, tratará de ponerle todo tipo de dificultades; pero John está convencido de que lo que su amigo necesita es una esposa, así que pondrá en marcha sus propios planes.\\n',\n",
       " '\\nBasada en el best seller de Terry McMillan, la película narra las vidas de cuatro mujeres afroamericanas. Todas ellas esperan el momento en que consigan mantener una relación estable y cómoda con un hombre. Robin es la eterna prometida de Russell, que ha renegado de su promesa de abandonar a su mujer por ella. Savannah es una productora televisiva que cree que su amante también dejará a su esposa. Bernadine es una mujer rica que ha abandonado su carrera para dedicarse a su familia.\\n',\n",
       " '\\nTras la boda de su querida hija Anne, George Banks siente que un periodo de calma y disfrute se abre ante él. Podrá cumplir su sueño de vender su casa y vivir junto a la playa. Pero primero los recién casados, anunciando su próxima paternidad, y después su mujer Nina, comunicándole que también está embarazada, parecen estar dispuestos a no dejarle disfrutar de su bien ganado descanso.\\n',\n",
       " '\\nNeil McCauley es un experto ladrón. Su filosofía consiste en vivir sin ataduras que puedan constituir un obstáculo, si las cosas se complican. Su banda la forman criminales profesionales tan cualificados que pueden impresionar incluso al detective Vincent Hanna. Pero Hannah vive tan obsesionado con su trabajo que llega incluso a poner en peligro su relación sentimental. Cuando la banda de McCauley prepara el golpe definitivo y el equipo de Hannah intenta evitarlo, cada uno de ellos comprende que tiene que vérselas con una de las mentes más brillantes a la que se ha enfrentado en su carrera.\\n',\n",
       " '\\nSabrina Fairchild (Julia Ormond), la hija del chófer de la acaudalada familia de los Larrabee, desde niña se sintió fascinada por los hermanos Larrabee, especialmente por David. Convertida ya en una jovencita, gracias a los ahorros de su padre, se va a París. Cuando regresa a Estados Unidos, se ha transformado en una bella y sofisticada joven que deslumbra a David hasta tal punto que está dispuesto a romper su compromiso matrimonial con una millonaria. Pero Linus (Harrison Ford), el hermano mayor, ha cerrado un trato comercial con el padre de la novia de David y no está dispuesto a consentir que nadie interfiera en sus negocios.\\n',\n",
       " '\\nTom Sawyer y Huck Finn presencian el asesinato de un hombre por todos conocido como el \"Indio Joe\", para robarle el mapa de un tesoro. Cuando es acusado del asesinato un inocente, ambos muchachos correrán todo tipo de peligros para evitar que sea condenado.\\n',\n",
       " '\\nEn un partido de hockey, un grupo de terroristas toma el palco de honor de un estadio y retiene a sus ocupantes entre los que se encuentra el vicepresidente del gobierno. Exigen que a lo largo del partido se proceda a una transferencia de dinero a sus cuentas bancarias. En caso contrario, el estadio, sembrado de bombas, volará por los aires con todos los espectadores dentro.\\n',\n",
       " '\\nEn sus vacaciones, el agente Bond se encuentra con la bella y letal Xenia Onatopp, que intenta hacerse con los planos de un nuevo helicóptero invulnerable a las interferencias. Mientras tanto la programadora del ejército ruso Natalya Siminova es la única superviviente de su equipo a un macabro plan del general Ourumov para hacerse con Goldeneye, un arma espacial ultrasecreta que emite pulsos nucleares que inutilizan cualquier equipo electrónico. Bond formará equipo con Natalya para descubrir a los malhechores tras el robo.\\n']"
      ]
     },
     "execution_count": 7,
     "metadata": {},
     "output_type": "execute_result"
    }
   ],
   "source": [
    "columnaSinopsis=[]\n",
    "#for idPeli in df_links['tmdbId'].head(10):\n",
    "for idPeli in df_links['tmdbId']:\n",
    "    print(int(idPeli))\n",
    "    try:\n",
    "        url = \"https://www.themoviedb.org/movie/\"+str(int(idPeli))\n",
    "        page = requests.get(url,headers=header)\n",
    "        soup = BeautifulSoup (page.content, 'html.parser')\n",
    "        sinopsis = soup.find(class_=\"overview\")\n",
    "        sinopsis = sinopsis.text\n",
    "        sinopsis = str(sinopsis)\n",
    "        #print(sinopsis)\n",
    "        columnaSinopsis.append(sinopsis)\n",
    "    except:\n",
    "        columnaSinopsis.append(\"Sin Informacion\")\n",
    "columnaSinopsis"
   ]
  },
  {
   "cell_type": "code",
   "execution_count": null,
   "id": "7a01bc38",
   "metadata": {},
   "outputs": [],
   "source": []
  }
 ],
 "metadata": {
  "kernelspec": {
   "display_name": "Python 3 (ipykernel)",
   "language": "python",
   "name": "python3"
  },
  "language_info": {
   "codemirror_mode": {
    "name": "ipython",
    "version": 3
   },
   "file_extension": ".py",
   "mimetype": "text/x-python",
   "name": "python",
   "nbconvert_exporter": "python",
   "pygments_lexer": "ipython3",
   "version": "3.9.12"
  }
 },
 "nbformat": 4,
 "nbformat_minor": 5
}
