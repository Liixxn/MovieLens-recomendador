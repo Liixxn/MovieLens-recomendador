{
 "cells": [
  {
   "cell_type": "code",
   "execution_count": 1,
   "id": "50215d7f",
   "metadata": {},
   "outputs": [],
   "source": [
    "import requests\n",
    "import pandas as pd\n",
    "import numpy as np\n",
    "import seaborn as sns\n",
    "from bs4 import BeautifulSoup\n",
    "\n",
    "try:\n",
    "    import surprise\n",
    "except ModuleNotFoundError:\n",
    "    !pip install scikit-surprise\n",
    "    import surprise\n",
    "try:\n",
    "    import scipy as sp\n",
    "except ModuleNotFoundError:\n",
    "    !pip install scipy\n",
    "    import scipy as sp\n",
    "\n",
    "from sklearn.metrics.pairwise import cosine_similarity\n",
    "\n"
   ]
  },
  {
   "cell_type": "code",
   "execution_count": 2,
   "id": "3c253961",
   "metadata": {
    "scrolled": false
   },
   "outputs": [
    {
     "name": "stdout",
     "output_type": "stream",
     "text": [
      "Peliculas similares a Star Wars: Episode IV - A New Hope (1977):\n",
      "\n",
      "1 - Star Wars: Episode V - The Empire Strikes Back (1980)\n",
      "2 - Star Wars: Episode VI - Return of the Jedi (1983)\n",
      "3 - Raiders of the Lost Ark (Indiana Jones and the Raiders of the Lost Ark) (1981)\n",
      "4 - Matrix, The (1999)\n",
      "5 - Indiana Jones and the Last Crusade (1989)\n",
      "6 - Back to the Future (1985)\n",
      "7 - Star Wars: Episode I - The Phantom Menace (1999)\n",
      "8 - Terminator, The (1984)\n",
      "9 - Godfather, The (1972)\n",
      "10 - Saving Private Ryan (1998)\n",
      "Peliculas similares a Star Wars: Episode IV - A New Hope (1977):\n",
      "\n",
      "1 - Waterworld (1995)\n",
      "2 - Stargate (1994)\n",
      "3 - Demolition Man (1993)\n",
      "4 - Star Wars: Episode V - The Empire Strikes Back (1980)\n",
      "5 - Star Wars: Episode VI - Return of the Jedi (1983)\n",
      "6 - Star Trek III: The Search for Spock (1984)\n",
      "7 - Lost in Space (1998)\n",
      "8 - Rocketeer, The (1991)\n",
      "9 - Tron (1982)\n",
      "10 - Six-String Samurai (1998)\n"
     ]
    }
   ],
   "source": [
    "class Procesos:\n",
    "    def __init__(self):\n",
    "        self.cargaDocumentos()\n",
    "    def cargaDocumentos(self):\n",
    "        self.df_links = pd.read_csv('csv/links.csv')\n",
    "        self.df_links = self.df_links.dropna()\n",
    "        self.df_movies = pd.read_csv('csv/movies.csv')\n",
    "        self.df_movies = self.df_movies.dropna()\n",
    "        self.df_ratings = pd.read_csv('csv/ratings.csv')\n",
    "        self.df_ratings = self.df_ratings.dropna()\n",
    "        self.df_tags = pd.read_csv('csv/tags.csv')\n",
    "        self.df_tags = self.df_tags.dropna()\n",
    "    def recomedacionPorValoracionOtrosUsuarios(self, title, n_similares):\n",
    "        df_movies_ratings = self.df_ratings.merge(self.df_movies)[['userId','movieId','title', 'rating','genres']]\n",
    "        ratings_table = df_movies_ratings.pivot_table(index='userId', columns='title', values='rating')\n",
    "        #para cambiar los NAN por 0:\n",
    "        ratings_table.fillna(0, inplace=True)\n",
    "        sparse_rating = sp.sparse.csr_matrix(ratings_table)\n",
    "        similitud_usuarios = cosine_similarity(sparse_rating)\n",
    "        #se hace con la transpuesta de la matriz creada anteriormente\n",
    "        similitud_movies = cosine_similarity(sparse_rating.T)\n",
    "        df_similitud_usuarios = pd.DataFrame(similitud_usuarios, index=ratings_table.index, columns=ratings_table.index)\n",
    "        df_similitud_movies = pd.DataFrame(similitud_movies, index=ratings_table.columns, columns=ratings_table.columns)\n",
    "        #le sumamos uno a n_similares porque la primera siempre es la propia pelicula y nos la saltamos\n",
    "        n_similares+=1\n",
    "        contador = 1\n",
    "        print('Peliculas similares a ' + title + ':')\n",
    "        print()\n",
    "        for movie in df_similitud_movies[title].sort_values(ascending=False).index[1:n_similares]:\n",
    "            print(str(contador) + ' - ' + str(movie))\n",
    "            contador+=1\n",
    "    def recomedacionPorGenero(self, title, n_similares):\n",
    "        genres = list(set([genre for genres in self.df_movies[\"genres\"].str.split(\"|\") for genre in genres]))\n",
    "        genre_matrix = []\n",
    "        for index, row in self.df_movies.iterrows():\n",
    "            genre_list = row[\"genres\"].split(\"|\")\n",
    "            genre_vector = [1 if genre in genre_list else 0 for genre in genres]\n",
    "            genre_matrix.append(genre_vector)\n",
    "        genre_matrix = pd.DataFrame(genre_matrix, columns=genres)\n",
    "        contador = 1\n",
    "        selected_movie = self.df_movies[self.df_movies[\"title\"] == title]\n",
    "        selected_movie_index = selected_movie.index[0]\n",
    "        #sacamos las similitudes de los generos\n",
    "        similarities = cosine_similarity(genre_matrix[selected_movie_index:selected_movie_index+1], genre_matrix).flatten()\n",
    "        #las metemos en una tupla y las ordenamos de mayor a menor \n",
    "        movie_list = [(index, similarity) for index, similarity in enumerate(similarities)]\n",
    "        movie_list.sort(key=lambda x: x[1], reverse=True)\n",
    "\n",
    "        print('Peliculas similares a ' + title + ':')\n",
    "        print()\n",
    "        #la bandera nos sirve para saltarnos la propia peli que buscamos\n",
    "        #siempre esta a false y si nos encontramos la peli que estamos buscando la activamos a True\n",
    "        #si esta en True al finalizar el bucle significa que ha saltado el titulo que buscabamos para no repetirse a si mismo \n",
    "        #y por lo tanto hay que añadir uno mas para llegar al numero deseado por el usuario\n",
    "        bandera=False\n",
    "        for movie in movie_list[0:n_similares]:\n",
    "            if(title != self.df_movies.iloc[movie[0]][\"title\"]):\n",
    "                print(str(contador)+' - ' +self.df_movies.iloc[movie[0]][\"title\"])\n",
    "                contador+=1\n",
    "            else:\n",
    "                bandera=True\n",
    "        if(bandera):\n",
    "            #print('bandera')\n",
    "            mov=movie_list[n_similares][0]\n",
    "            print(str(contador)+' - ' +self.df_movies.iloc[mov][\"title\"])\n",
    "            \n",
    "\n",
    "p = Procesos()\n",
    "p.recomedacionPorValoracionOtrosUsuarios(\"Star Wars: Episode IV - A New Hope (1977)\",10)\n",
    "p.recomedacionPorGenero(\"Star Wars: Episode IV - A New Hope (1977)\",10)"
   ]
  },
  {
   "cell_type": "code",
   "execution_count": null,
   "id": "8e582bc7",
   "metadata": {},
   "outputs": [],
   "source": []
  },
  {
   "cell_type": "markdown",
   "id": "7c584b37",
   "metadata": {},
   "source": [
    "# PREGUNTAR "
   ]
  },
  {
   "cell_type": "code",
   "execution_count": 3,
   "id": "b319d393",
   "metadata": {},
   "outputs": [
    {
     "ename": "NameError",
     "evalue": "name 'ratings_table' is not defined",
     "output_type": "error",
     "traceback": [
      "\u001b[1;31m---------------------------------------------------------------------------\u001b[0m",
      "\u001b[1;31mNameError\u001b[0m                                 Traceback (most recent call last)",
      "Input \u001b[1;32mIn [3]\u001b[0m, in \u001b[0;36m<cell line: 3>\u001b[1;34m()\u001b[0m\n\u001b[0;32m      1\u001b[0m \u001b[38;5;28;01mfrom\u001b[39;00m \u001b[38;5;21;01msklearn\u001b[39;00m\u001b[38;5;21;01m.\u001b[39;00m\u001b[38;5;21;01mfeature_extraction\u001b[39;00m\u001b[38;5;21;01m.\u001b[39;00m\u001b[38;5;21;01mtext\u001b[39;00m \u001b[38;5;28;01mimport\u001b[39;00m CountVectorizer, TfidfTransformer\n\u001b[0;32m      2\u001b[0m tfi \u001b[38;5;241m=\u001b[39m TfidfTransformer()\n\u001b[1;32m----> 3\u001b[0m matrix_tfi \u001b[38;5;241m=\u001b[39m tfi\u001b[38;5;241m.\u001b[39mfit_transform(\u001b[43mratings_table\u001b[49m)\n\u001b[0;32m      4\u001b[0m \u001b[38;5;28mprint\u001b[39m(matrix_tfi\u001b[38;5;241m.\u001b[39mshape)\n",
      "\u001b[1;31mNameError\u001b[0m: name 'ratings_table' is not defined"
     ]
    }
   ],
   "source": [
    "from sklearn.feature_extraction.text import CountVectorizer, TfidfTransformer\n",
    "tfi = TfidfTransformer()\n",
    "matrix_tfi = tfi.fit_transform(ratings_table)\n",
    "print(matrix_tfi.shape)"
   ]
  },
  {
   "cell_type": "code",
   "execution_count": null,
   "id": "f74c4905",
   "metadata": {},
   "outputs": [],
   "source": []
  },
  {
   "cell_type": "code",
   "execution_count": null,
   "id": "32752ed0",
   "metadata": {},
   "outputs": [],
   "source": []
  },
  {
   "cell_type": "code",
   "execution_count": null,
   "id": "a321bcc5",
   "metadata": {},
   "outputs": [],
   "source": []
  }
 ],
 "metadata": {
  "kernelspec": {
   "display_name": "Python 3 (ipykernel)",
   "language": "python",
   "name": "python3"
  },
  "language_info": {
   "codemirror_mode": {
    "name": "ipython",
    "version": 3
   },
   "file_extension": ".py",
   "mimetype": "text/x-python",
   "name": "python",
   "nbconvert_exporter": "python",
   "pygments_lexer": "ipython3",
   "version": "3.9.12"
  }
 },
 "nbformat": 4,
 "nbformat_minor": 5
}
