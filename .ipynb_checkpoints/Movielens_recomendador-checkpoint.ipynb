{
 "cells": [
  {
   "cell_type": "code",
   "execution_count": 1,
   "id": "50215d7f",
   "metadata": {},
   "outputs": [],
   "source": [
    "import requests\n",
    "import pandas as pd"
   ]
  },
  {
   "cell_type": "code",
   "execution_count": 2,
   "id": "3c253961",
   "metadata": {},
   "outputs": [],
   "source": [
    "df_links = pd.read_csv('csv/links.csv')"
   ]
  },
  {
   "cell_type": "code",
   "execution_count": 3,
   "id": "ded5e2d5",
   "metadata": {},
   "outputs": [],
   "source": [
    "df_movies = pd.read_csv('csv/movies.csv')"
   ]
  },
  {
   "cell_type": "code",
   "execution_count": 4,
   "id": "338f7fe5",
   "metadata": {},
   "outputs": [],
   "source": [
    "df_ratings = pd.read_csv('csv/ratings.csv')"
   ]
  },
  {
   "cell_type": "code",
   "execution_count": 5,
   "id": "24886fd6",
   "metadata": {},
   "outputs": [],
   "source": [
    "df_tags = pd.read_csv('csv/tags.csv')"
   ]
  },
  {
   "cell_type": "code",
   "execution_count": 6,
   "id": "f2026ea0",
   "metadata": {},
   "outputs": [],
   "source": [
    "header = {\n",
    "    'User-Agent': 'Chrome 108.0.5359.125',\n",
    "    'Accept-Language': 'es'\n",
    "}"
   ]
  },
  {
   "cell_type": "code",
   "execution_count": 7,
   "id": "b7364bb1",
   "metadata": {},
   "outputs": [
    {
     "name": "stdout",
     "output_type": "stream",
     "text": [
      "862.0\n",
      "8844.0\n",
      "15602.0\n",
      "31357.0\n",
      "11862.0\n",
      "949.0\n",
      "11860.0\n",
      "45325.0\n",
      "9091.0\n",
      "710.0\n"
     ]
    },
    {
     "data": {
      "text/plain": [
       "['Sin Informacion',\n",
       " 'Sin Informacion',\n",
       " 'Sin Informacion',\n",
       " 'Sin Informacion',\n",
       " 'Sin Informacion',\n",
       " 'Sin Informacion',\n",
       " 'Sin Informacion',\n",
       " 'Sin Informacion',\n",
       " 'Sin Informacion',\n",
       " 'Sin Informacion']"
      ]
     },
     "execution_count": 7,
     "metadata": {},
     "output_type": "execute_result"
    }
   ],
   "source": [
    "columnaSinopsis=[]\n",
    "for idPeli in df_links['tmdbId'].head(10):\n",
    "    print(idPeli)\n",
    "    try:\n",
    "        url = \"https://www.themoviedb.org/movie/\"+str(idPeli)\n",
    "        page = requests.get(url,headers=header)\n",
    "        soup = BeautifulSoup (page.content, 'html.parser')\n",
    "        sinopsis = soup.find(class_=\"overview\")\n",
    "        sinopsis = sinopsis.text\n",
    "        sinopsis = str(sinopsis)\n",
    "        #print(sinopsis)\n",
    "        columnaSinopsis.append(sinopsis)\n",
    "    except:\n",
    "        columnaSinopsis.append(\"Sin Informacion\")\n",
    "columnaSinopsis"
   ]
  }
 ],
 "metadata": {
  "kernelspec": {
   "display_name": "Python 3 (ipykernel)",
   "language": "python",
   "name": "python3"
  },
  "language_info": {
   "codemirror_mode": {
    "name": "ipython",
    "version": 3
   },
   "file_extension": ".py",
   "mimetype": "text/x-python",
   "name": "python",
   "nbconvert_exporter": "python",
   "pygments_lexer": "ipython3",
   "version": "3.9.12"
  }
 },
 "nbformat": 4,
 "nbformat_minor": 5
}
